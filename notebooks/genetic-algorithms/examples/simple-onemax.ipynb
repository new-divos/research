{
 "cells": [
  {
   "cell_type": "markdown",
   "source": [
    "# Тривиальный подход к решению задачи OneMax с помощью генетического алгоритма и средств фреймворка DEAP"
   ],
   "metadata": {}
  },
  {
   "cell_type": "code",
   "execution_count": 1,
   "source": [
    "import random\r\n",
    "import typing as t\r\n",
    "\r\n",
    "import matplotlib.pyplot as plt\r\n",
    "from deap import base\r\n",
    "from deap import creator\r\n",
    "from deap import tools\r\n",
    "\r\n",
    "%matplotlib inline"
   ],
   "outputs": [],
   "metadata": {}
  },
  {
   "cell_type": "markdown",
   "source": [
    "Определение констант задачи"
   ],
   "metadata": {}
  },
  {
   "cell_type": "code",
   "execution_count": 2,
   "source": [
    "# длина подлежащей оптимизации битовой строки\r\n",
    "ONE_MAX_LENGTH = 100\r\n",
    "\r\n",
    "# количество индивидуумов в популяции\r\n",
    "POPULATION_SIZE = 200\r\n",
    "# вероятность скрещивания\r\n",
    "P_CROSSOVER = 0.9\r\n",
    "# вероятность мутации индивидуума\r\n",
    "P_MUTATION = 0.1\r\n",
    "# максимальное количество поколений\r\n",
    "MAX_GENERATION = 50"
   ],
   "outputs": [],
   "metadata": {}
  },
  {
   "cell_type": "markdown",
   "source": [
    "Инициализация генератора случайных чисел"
   ],
   "metadata": {}
  },
  {
   "cell_type": "code",
   "execution_count": 3,
   "source": [
    "RANDOM_SEED = 43\r\n",
    "random.seed(RANDOM_SEED)"
   ],
   "outputs": [],
   "metadata": {}
  },
  {
   "cell_type": "markdown",
   "source": [
    "## Подготовка решения задачи"
   ],
   "metadata": {}
  },
  {
   "cell_type": "code",
   "execution_count": 4,
   "source": [
    "toolbox = base.Toolbox()\r\n",
    "toolbox.register(\"zeroOrOne\", random.randint, 0, 1)"
   ],
   "outputs": [],
   "metadata": {}
  },
  {
   "cell_type": "markdown",
   "source": [
    "Определение класса приспособленности отдельного индивидуума"
   ],
   "metadata": {}
  },
  {
   "cell_type": "code",
   "execution_count": 5,
   "source": [
    "creator.create(\"FitnessMax\", base.Fitness, weights=(1.0,))"
   ],
   "outputs": [],
   "metadata": {}
  },
  {
   "cell_type": "markdown",
   "source": [
    "Определение класса индивидуума популяции"
   ],
   "metadata": {}
  },
  {
   "cell_type": "code",
   "execution_count": 6,
   "source": [
    "creator.create(\"Individual\", list, fitness=creator.FitnessMax)"
   ],
   "outputs": [],
   "metadata": {}
  },
  {
   "cell_type": "markdown",
   "source": [
    "Инициализация индивидуума"
   ],
   "metadata": {}
  },
  {
   "cell_type": "code",
   "execution_count": 7,
   "source": [
    "toolbox.register(\r\n",
    "    \"individualCreator\",\r\n",
    "    tools.initRepeat,\r\n",
    "    creator.Individual,\r\n",
    "    toolbox.zeroOrOne,\r\n",
    "    ONE_MAX_LENGTH\r\n",
    ")"
   ],
   "outputs": [],
   "metadata": {}
  },
  {
   "cell_type": "markdown",
   "source": [
    "Инициализация популяции"
   ],
   "metadata": {}
  },
  {
   "cell_type": "code",
   "execution_count": 8,
   "source": [
    "toolbox.register(\r\n",
    "    \"populationCreator\",\r\n",
    "    tools.initRepeat,\r\n",
    "    list,\r\n",
    "    toolbox.individualCreator\r\n",
    ")"
   ],
   "outputs": [],
   "metadata": {}
  },
  {
   "cell_type": "markdown",
   "source": [
    "Определение функции для вычисления приспособленности"
   ],
   "metadata": {}
  },
  {
   "cell_type": "code",
   "execution_count": 9,
   "source": [
    "def one_max_fitness(individual: creator.Individual) -> t.Tuple[int]:\r\n",
    "    return sum(individual),"
   ],
   "outputs": [],
   "metadata": {}
  },
  {
   "cell_type": "code",
   "execution_count": 10,
   "source": [
    "toolbox.register(\"evaluate\", one_max_fitness)"
   ],
   "outputs": [],
   "metadata": {}
  },
  {
   "cell_type": "markdown",
   "source": [
    "Определение генетических операторов"
   ],
   "metadata": {}
  },
  {
   "cell_type": "code",
   "execution_count": 11,
   "source": [
    "toolbox.register(\"select\", tools.selTournament, tournsize=3)\r\n",
    "toolbox.register(\"mate\", tools.cxOnePoint)\r\n",
    "toolbox.register(\"mutate\", tools.mutFlipBit, indpb=1.0 / ONE_MAX_LENGTH)"
   ],
   "outputs": [],
   "metadata": {}
  },
  {
   "cell_type": "markdown",
   "source": [
    "## Эволюция решения"
   ],
   "metadata": {}
  },
  {
   "cell_type": "markdown",
   "source": [
    "Создание популяции"
   ],
   "metadata": {}
  },
  {
   "cell_type": "code",
   "execution_count": 12,
   "source": [
    "population = toolbox.populationCreator(n=POPULATION_SIZE)\r\n",
    "generation_counter = 0"
   ],
   "outputs": [],
   "metadata": {}
  },
  {
   "cell_type": "markdown",
   "source": [
    "Определение значения приспособленности для каждого индивидуума"
   ],
   "metadata": {}
  },
  {
   "cell_type": "code",
   "execution_count": 13,
   "source": [
    "fitness_values = list(map(toolbox.evaluate, population))"
   ],
   "outputs": [],
   "metadata": {}
  },
  {
   "cell_type": "markdown",
   "source": [
    "Определение значения приспособленности"
   ],
   "metadata": {}
  },
  {
   "cell_type": "code",
   "execution_count": 14,
   "source": [
    "for individual, fitness_value in zip(population, fitness_values):\r\n",
    "    individual.fitness.values = fitness_value"
   ],
   "outputs": [],
   "metadata": {}
  },
  {
   "cell_type": "markdown",
   "source": [
    "Получение значений приспособленности для статистики"
   ],
   "metadata": {}
  },
  {
   "cell_type": "code",
   "execution_count": 15,
   "source": [
    "fitness_values = [individual.fitness.values[0] for individual in population]"
   ],
   "outputs": [],
   "metadata": {}
  },
  {
   "cell_type": "code",
   "execution_count": 16,
   "source": [
    "max_fitness_values = []\r\n",
    "mean_fitness_values = []"
   ],
   "outputs": [],
   "metadata": {}
  },
  {
   "cell_type": "markdown",
   "source": [
    "Запуск эволюционного цикла"
   ],
   "metadata": {}
  },
  {
   "cell_type": "code",
   "execution_count": 17,
   "source": [
    "while max(fitness_values) < ONE_MAX_LENGTH and generation_counter < MAX_GENERATION:\r\n",
    "    generation_counter += 1\r\n",
    "\r\n",
    "    # Применить оператор отбора к популяции\r\n",
    "    offspring = toolbox.select(population, len(population))\r\n",
    "    # Клонировать выбранные индивидуумы\r\n",
    "    offspring = list(map(toolbox.clone, offspring))\r\n",
    "\r\n",
    "    # Применить оператор скрещивания к выбранным индивидуумам\r\n",
    "    for child1, child2 in zip(offspring[::2], offspring[1::2]):\r\n",
    "        if random.random() < P_CROSSOVER:\r\n",
    "            toolbox.mate(child1, child2)\r\n",
    "            del child1.fitness.values\r\n",
    "            del child2.fitness.values\r\n",
    "\r\n",
    "    # Применить оператор мутации\r\n",
    "    for mutant in offspring:\r\n",
    "        if random.random() < P_MUTATION:\r\n",
    "            toolbox.mutate(mutant)\r\n",
    "            del mutant.fitness.values\r\n",
    "\r\n",
    "    # Определить приспособленность новых особей популяции\r\n",
    "    fresh_individuals = [ind for ind in offspring if not ind.fitness.valid]\r\n",
    "    fresh_fitness_values = list(map(toolbox.evaluate, fresh_individuals))\r\n",
    "    for individual, fitness_value in zip(fresh_individuals, fresh_fitness_values):\r\n",
    "        individual.fitness.values = fitness_value\r\n",
    "\r\n",
    "    # Обновить популяцию\r\n",
    "    population[:] = offspring\r\n",
    "\r\n",
    "    # Получить значение приспособленности для статистики\r\n",
    "    fitness_values = [ind.fitness.values[0] for ind in population]\r\n",
    "\r\n",
    "    # Обновить статистику\r\n",
    "    max_fitness = max(fitness_values)\r\n",
    "    mean_fitness = sum(fitness_values) / len(fitness_values)\r\n",
    "\r\n",
    "    max_fitness_values.append(max_fitness)\r\n",
    "    mean_fitness_values.append(mean_fitness)\r\n",
    "\r\n",
    "    print(\r\n",
    "        f\"- Поколение {generation_counter}: Макс. приспособ. = {max_fitness}, \"\r\n",
    "        f\"Средняя приспособ. = {mean_fitness}\"\r\n",
    "    )\r\n",
    "\r\n",
    "    # Определить индекс (первого) лучшего индивидуума\r\n",
    "    best_index = fitness_values.index(max_fitness)\r\n",
    "    print(\"  Лучший индивидуум = \", *population[best_index], \"\\n\")"
   ],
   "outputs": [
    {
     "output_type": "stream",
     "name": "stdout",
     "text": [
      "- Поколение 1: Макс. приспособ. = 70.0, Средняя приспособ. = 54.4\n",
      "  Лучший индивидуум =  1 1 1 1 1 1 1 1 0 1 0 0 0 1 1 1 1 1 0 0 1 1 1 0 0 0 1 1 1 1 0 0 1 0 1 1 1 1 0 1 1 1 0 0 1 1 0 1 1 1 1 0 1 0 0 0 1 1 1 1 0 1 1 1 1 1 0 1 0 1 1 1 0 1 0 1 1 1 1 1 1 0 1 1 1 0 0 0 1 1 1 1 1 0 1 1 1 1 1 1 \n",
      "\n",
      "- Поколение 2: Макс. приспособ. = 73.0, Средняя приспособ. = 58.21\n",
      "  Лучший индивидуум =  1 1 0 1 1 1 1 0 1 1 1 1 1 1 0 1 1 1 0 1 0 1 1 1 0 1 1 0 1 1 0 1 1 1 1 0 1 1 0 0 0 1 0 1 1 1 1 0 1 0 0 1 1 1 0 1 1 1 1 1 0 1 1 1 1 1 0 1 0 1 1 1 0 1 0 1 1 1 1 1 1 0 1 1 1 0 0 0 1 1 1 1 1 0 1 1 1 1 1 1 \n",
      "\n",
      "- Поколение 3: Макс. приспособ. = 71.0, Средняя приспособ. = 61.985\n",
      "  Лучший индивидуум =  1 0 1 0 1 1 0 0 0 1 1 0 0 0 1 1 1 1 1 1 1 1 1 0 1 1 1 1 0 1 0 1 0 1 1 1 1 1 1 1 1 1 0 0 1 1 0 1 1 1 1 0 1 0 0 0 1 1 1 1 0 1 1 1 1 1 0 1 0 1 1 1 0 1 0 1 1 1 1 1 1 0 1 1 1 0 0 0 1 1 1 1 1 0 1 1 1 1 1 1 \n",
      "\n",
      "- Поколение 4: Макс. приспособ. = 75.0, Средняя приспособ. = 65.225\n",
      "  Лучший индивидуум =  0 1 1 1 1 0 0 1 0 0 1 1 1 0 0 1 1 1 1 1 1 1 1 0 1 1 1 1 0 1 0 1 0 1 1 1 1 1 1 1 1 1 1 1 1 1 1 1 1 1 1 0 0 1 1 1 1 0 1 1 1 1 0 0 1 0 1 1 1 0 1 1 1 1 1 0 0 1 1 1 1 1 1 1 1 0 1 1 1 1 1 0 1 0 1 1 1 0 1 0 \n",
      "\n",
      "- Поколение 5: Макс. приспособ. = 77.0, Средняя приспособ. = 68.255\n",
      "  Лучший индивидуум =  1 1 0 0 1 1 1 1 1 1 1 0 1 1 0 1 1 1 1 1 1 1 1 0 1 1 1 1 0 1 0 1 0 1 1 1 1 1 1 1 1 1 1 1 1 1 1 1 1 1 1 0 0 1 1 1 1 0 1 1 1 0 0 1 1 0 0 1 0 1 1 1 0 1 0 1 1 1 1 1 1 0 1 1 1 0 0 0 1 1 1 1 1 0 1 1 1 1 1 1 \n",
      "\n",
      "- Поколение 6: Макс. приспособ. = 77.0, Средняя приспособ. = 70.395\n",
      "  Лучший индивидуум =  1 1 1 1 1 1 1 1 0 1 0 1 1 1 0 0 0 1 1 1 1 1 1 0 1 1 1 1 0 1 0 1 0 1 1 1 1 1 1 1 1 1 1 0 1 0 1 1 1 1 1 1 0 1 0 1 1 1 1 1 1 1 0 1 1 1 0 1 0 1 1 1 0 1 0 1 1 1 1 1 1 0 1 1 1 0 0 0 1 1 1 1 1 0 1 1 1 1 1 1 \n",
      "\n",
      "- Поколение 7: Макс. приспособ. = 79.0, Средняя приспособ. = 72.48\n",
      "  Лучший индивидуум =  1 1 0 0 1 1 1 1 1 1 1 1 1 0 0 1 1 1 1 1 1 1 1 0 1 1 1 1 0 1 0 1 0 1 1 1 1 1 1 1 1 1 1 1 1 1 1 1 1 1 1 0 0 1 1 1 1 0 1 0 1 1 1 1 1 1 0 1 0 1 1 1 0 1 0 1 1 1 1 1 1 0 1 1 1 0 0 0 1 1 1 1 1 0 1 1 1 1 1 1 \n",
      "\n",
      "- Поколение 8: Макс. приспособ. = 81.0, Средняя приспособ. = 75.0\n",
      "  Лучший индивидуум =  1 1 1 1 1 1 1 0 1 1 1 1 1 1 0 1 1 1 1 1 1 1 1 0 1 1 1 1 0 1 0 1 0 1 1 1 1 1 1 1 1 1 1 1 1 1 1 1 1 1 1 0 0 1 1 1 1 0 1 0 1 1 1 1 1 1 0 1 0 1 1 1 0 1 0 1 1 1 1 1 1 0 1 1 1 0 0 0 1 1 1 1 1 0 1 1 1 1 1 1 \n",
      "\n",
      "- Поколение 9: Макс. приспособ. = 84.0, Средняя приспособ. = 77.005\n",
      "  Лучший индивидуум =  1 1 1 1 1 1 1 0 1 1 1 1 1 1 0 1 1 1 1 1 1 1 1 0 1 1 1 1 0 1 0 1 0 1 1 1 1 1 1 1 1 1 1 1 1 1 1 1 1 1 1 0 0 1 1 1 1 0 1 0 1 1 1 1 1 1 1 1 0 1 1 1 0 1 0 1 1 1 1 1 1 1 1 1 1 0 1 0 1 1 1 1 1 0 1 1 1 1 1 1 \n",
      "\n",
      "- Поколение 10: Макс. приспособ. = 84.0, Средняя приспособ. = 78.525\n",
      "  Лучший индивидуум =  1 1 1 1 1 1 1 0 1 1 1 1 1 1 0 1 1 1 1 1 1 1 1 0 1 1 1 1 0 1 0 1 0 1 1 1 1 1 1 1 1 1 1 1 1 1 1 1 1 1 1 0 0 1 1 1 1 0 1 0 1 1 1 1 1 1 1 1 0 1 1 1 0 1 0 1 1 1 1 1 1 1 1 1 1 0 1 0 1 1 1 1 1 0 1 1 1 1 1 1 \n",
      "\n",
      "- Поколение 11: Макс. приспособ. = 85.0, Средняя приспособ. = 79.755\n",
      "  Лучший индивидуум =  1 1 1 1 1 1 1 0 1 1 1 1 1 0 1 1 1 1 1 1 1 1 1 0 1 1 1 1 0 1 0 1 0 1 1 1 0 1 1 1 1 1 1 1 1 1 1 1 1 1 1 1 0 1 1 1 1 1 1 0 1 1 1 1 1 1 1 1 0 1 1 1 0 1 0 1 1 1 1 1 1 1 1 1 1 0 1 0 1 1 1 1 1 0 1 1 1 1 1 1 \n",
      "\n",
      "- Поколение 12: Макс. приспособ. = 87.0, Средняя приспособ. = 81.18\n",
      "  Лучший индивидуум =  1 1 1 1 1 1 1 0 1 1 1 1 1 0 1 1 1 1 1 1 1 1 1 0 1 1 1 1 0 1 0 1 0 1 1 1 1 1 1 1 1 1 1 1 1 1 1 1 1 1 1 1 0 1 1 1 1 1 1 1 1 1 1 1 1 1 0 1 1 0 1 1 0 1 0 1 1 1 1 1 1 1 1 1 1 0 1 1 1 1 1 1 1 0 1 1 1 1 1 1 \n",
      "\n",
      "- Поколение 13: Макс. приспособ. = 87.0, Средняя приспособ. = 82.645\n",
      "  Лучший индивидуум =  1 1 1 1 1 1 1 0 1 1 1 1 1 0 1 1 1 1 1 1 1 1 1 0 1 1 1 1 0 1 0 1 0 1 1 1 1 1 1 1 1 1 1 1 1 1 1 1 1 1 1 1 0 1 1 1 1 1 1 1 1 1 1 1 1 1 0 1 1 0 1 1 0 1 0 1 1 1 1 1 1 1 1 1 1 0 1 1 1 1 1 1 0 1 1 1 1 1 1 1 \n",
      "\n",
      "- Поколение 14: Макс. приспособ. = 87.0, Средняя приспособ. = 83.93\n",
      "  Лучший индивидуум =  1 1 1 1 1 1 1 0 1 1 1 1 1 0 1 1 1 1 1 1 1 1 1 0 1 1 1 1 0 1 0 1 0 1 1 1 1 1 1 1 1 1 1 1 1 1 1 1 1 1 1 1 0 1 1 1 1 1 1 1 1 1 1 1 1 1 1 1 0 1 1 1 0 1 0 1 1 1 1 1 1 1 1 1 1 0 1 0 1 1 1 1 1 0 1 1 1 1 1 1 \n",
      "\n",
      "- Поколение 15: Макс. приспособ. = 89.0, Средняя приспособ. = 85.22\n",
      "  Лучший индивидуум =  1 1 1 1 1 1 1 0 1 1 1 1 1 0 1 1 1 1 1 1 1 1 1 0 1 1 1 1 0 1 0 1 0 1 1 1 1 1 1 1 1 1 1 1 1 1 1 1 1 1 1 1 0 1 1 1 1 1 1 1 1 1 1 1 1 1 1 1 0 1 1 1 0 1 0 1 1 1 1 1 1 1 1 1 1 1 1 1 1 1 1 1 1 0 1 1 1 1 1 1 \n",
      "\n",
      "- Поколение 16: Макс. приспособ. = 90.0, Средняя приспособ. = 86.23\n",
      "  Лучший индивидуум =  0 1 1 1 1 1 1 1 1 1 1 1 1 1 1 1 1 1 1 1 1 1 1 0 1 1 1 1 0 1 0 1 0 1 1 1 1 1 1 1 1 1 1 1 1 1 1 1 1 1 1 1 0 1 1 1 1 1 1 1 1 1 1 1 1 1 1 1 0 1 1 1 0 1 0 1 1 1 1 1 1 1 1 1 1 1 1 1 1 1 1 1 1 0 1 1 1 1 1 1 \n",
      "\n",
      "- Поколение 17: Макс. приспособ. = 91.0, Средняя приспособ. = 87.255\n",
      "  Лучший индивидуум =  1 1 1 1 1 1 1 1 1 1 1 1 1 1 1 1 1 1 1 1 1 1 1 0 1 1 1 1 0 1 0 1 0 1 1 1 1 1 1 1 1 1 1 1 1 1 1 1 1 1 1 1 0 1 1 1 1 1 1 1 1 1 1 1 1 1 0 1 1 1 1 1 0 1 0 1 1 1 1 1 1 1 1 1 1 1 1 1 1 1 1 1 1 0 1 1 1 1 1 1 \n",
      "\n",
      "- Поколение 18: Макс. приспособ. = 92.0, Средняя приспособ. = 88.145\n",
      "  Лучший индивидуум =  1 1 1 1 1 1 1 1 1 1 1 1 1 1 1 1 1 1 1 1 1 1 1 0 1 1 1 1 0 1 0 1 0 1 1 1 1 1 1 1 1 1 1 1 1 1 1 1 1 1 1 1 0 1 1 1 1 1 1 1 1 1 1 1 1 1 1 1 1 1 1 1 1 1 0 1 1 1 1 1 1 1 1 1 1 0 1 1 1 1 1 1 1 0 1 1 1 1 1 1 \n",
      "\n",
      "- Поколение 19: Макс. приспособ. = 93.0, Средняя приспособ. = 89.24\n",
      "  Лучший индивидуум =  1 1 1 1 1 1 1 1 1 1 1 1 1 1 1 1 1 1 1 1 1 1 1 0 1 1 1 1 0 1 0 1 0 1 1 1 1 1 1 1 1 1 1 1 1 1 1 1 1 1 1 1 0 1 1 1 1 1 1 1 1 1 1 1 1 1 1 1 1 1 1 1 1 1 0 1 1 1 1 1 1 1 1 1 1 1 1 1 1 1 1 1 1 0 1 1 1 1 1 1 \n",
      "\n",
      "- Поколение 20: Макс. приспособ. = 93.0, Средняя приспособ. = 90.03\n",
      "  Лучший индивидуум =  1 1 1 1 1 1 1 1 1 1 1 1 1 1 1 1 1 1 1 1 1 1 1 0 1 1 1 1 0 1 0 1 0 1 1 1 1 1 1 1 1 1 1 1 1 1 1 1 1 1 1 1 0 1 1 1 1 1 1 1 1 1 1 1 1 1 1 1 1 1 1 1 1 1 0 1 1 1 1 1 1 1 1 1 1 1 1 1 1 1 1 1 1 0 1 1 1 1 1 1 \n",
      "\n",
      "- Поколение 21: Макс. приспособ. = 93.0, Средняя приспособ. = 90.775\n",
      "  Лучший индивидуум =  1 1 1 1 1 1 1 1 1 1 1 1 1 1 1 1 1 1 1 1 1 1 1 0 1 1 1 1 0 1 0 1 0 1 1 1 1 1 1 1 1 1 1 1 1 1 1 1 1 1 1 1 0 1 1 1 1 1 1 1 1 1 1 1 1 1 1 1 1 1 1 1 1 1 0 1 1 1 1 1 1 1 1 1 1 1 1 1 1 1 1 1 1 0 1 1 1 1 1 1 \n",
      "\n",
      "- Поколение 22: Макс. приспособ. = 94.0, Средняя приспособ. = 91.51\n",
      "  Лучший индивидуум =  1 1 1 1 1 1 1 1 1 1 1 1 1 1 1 1 1 1 1 1 1 1 1 0 1 1 1 1 0 1 0 1 1 1 1 1 1 1 1 1 1 1 1 1 1 1 1 1 1 1 1 1 0 1 1 1 1 1 1 1 1 1 1 1 1 1 1 1 1 1 1 1 1 1 0 1 1 1 1 1 1 1 1 1 1 1 1 1 1 1 1 1 1 0 1 1 1 1 1 1 \n",
      "\n",
      "- Поколение 23: Макс. приспособ. = 94.0, Средняя приспособ. = 92.065\n",
      "  Лучший индивидуум =  1 1 1 1 1 1 1 1 1 1 1 1 1 1 1 1 1 1 1 1 1 1 1 0 1 1 1 1 0 1 0 1 1 1 1 1 1 1 1 1 1 1 1 1 1 1 1 1 1 1 1 1 0 1 1 1 1 1 1 1 1 1 1 1 1 1 1 1 1 1 1 1 1 1 0 1 1 1 1 1 1 1 1 1 1 1 1 1 1 1 1 1 1 0 1 1 1 1 1 1 \n",
      "\n",
      "- Поколение 24: Макс. приспособ. = 94.0, Средняя приспособ. = 92.57\n",
      "  Лучший индивидуум =  1 1 1 1 1 1 1 1 1 1 1 1 1 1 1 1 1 1 1 1 1 1 1 0 1 1 1 1 0 1 0 1 1 1 1 1 1 1 1 1 1 1 1 1 1 1 1 1 1 1 1 1 0 1 1 1 1 1 1 1 1 1 1 1 1 1 1 1 1 1 1 1 1 1 0 1 1 1 1 1 1 1 1 1 1 1 1 1 1 1 1 1 1 0 1 1 1 1 1 1 \n",
      "\n",
      "- Поколение 25: Макс. приспособ. = 95.0, Средняя приспособ. = 93.055\n",
      "  Лучший индивидуум =  1 1 1 1 1 1 1 1 1 1 1 1 1 1 1 1 1 1 1 1 1 1 1 0 1 1 1 1 0 1 0 1 1 1 1 1 1 1 1 1 1 1 1 1 1 1 1 1 1 1 1 1 0 1 1 1 1 1 1 1 1 1 1 1 1 1 1 1 1 1 1 1 1 1 0 1 1 1 1 1 1 1 1 1 1 1 1 1 1 1 1 1 1 1 1 1 1 1 1 1 \n",
      "\n",
      "- Поколение 26: Макс. приспособ. = 95.0, Средняя приспособ. = 93.38\n",
      "  Лучший индивидуум =  1 1 1 1 1 1 1 1 1 1 1 1 1 1 1 1 1 1 1 1 1 1 1 0 1 1 1 1 0 1 0 1 1 1 1 1 1 1 1 1 1 1 1 1 1 1 1 1 1 1 1 1 0 1 1 1 1 1 1 1 1 1 1 1 1 1 1 1 1 1 1 1 1 1 0 1 1 1 1 1 1 1 1 1 1 1 1 1 1 1 1 1 1 1 1 1 1 1 1 1 \n",
      "\n",
      "- Поколение 27: Макс. приспособ. = 97.0, Средняя приспособ. = 93.82\n",
      "  Лучший индивидуум =  1 1 1 1 1 1 1 1 1 1 1 1 1 1 1 1 1 1 1 1 1 1 1 1 1 1 1 1 0 1 0 1 1 1 1 1 1 1 1 1 1 1 1 1 1 1 1 1 1 1 1 1 0 1 1 1 1 1 1 1 1 1 1 1 1 1 1 1 1 1 1 1 1 1 1 1 1 1 1 1 1 1 1 1 1 1 1 1 1 1 1 1 1 1 1 1 1 1 1 1 \n",
      "\n",
      "- Поколение 28: Макс. приспособ. = 97.0, Средняя приспособ. = 94.08\n",
      "  Лучший индивидуум =  1 1 1 1 1 1 1 1 1 1 1 1 1 1 1 1 1 1 1 1 1 1 1 1 1 1 1 1 0 1 0 1 1 1 1 1 1 1 1 1 1 1 1 1 1 1 1 1 1 1 1 1 0 1 1 1 1 1 1 1 1 1 1 1 1 1 1 1 1 1 1 1 1 1 1 1 1 1 1 1 1 1 1 1 1 1 1 1 1 1 1 1 1 1 1 1 1 1 1 1 \n",
      "\n",
      "- Поколение 29: Макс. приспособ. = 97.0, Средняя приспособ. = 94.42\n",
      "  Лучший индивидуум =  1 1 1 1 1 1 1 1 1 1 1 1 1 1 1 1 1 1 1 1 1 1 1 1 1 1 1 1 0 1 0 1 1 1 1 1 1 1 1 1 1 1 1 1 1 1 1 1 1 1 1 1 0 1 1 1 1 1 1 1 1 1 1 1 1 1 1 1 1 1 1 1 1 1 1 1 1 1 1 1 1 1 1 1 1 1 1 1 1 1 1 1 1 1 1 1 1 1 1 1 \n",
      "\n",
      "- Поколение 30: Макс. приспособ. = 97.0, Средняя приспособ. = 94.985\n",
      "  Лучший индивидуум =  1 1 1 1 1 1 1 1 1 1 1 1 1 1 1 1 1 1 1 1 1 1 1 1 1 1 1 1 0 1 0 1 1 1 1 1 1 1 1 1 1 1 1 1 1 1 1 1 1 1 1 1 1 1 1 1 1 1 1 1 1 1 1 1 1 1 1 1 1 1 1 1 1 1 0 1 1 1 1 1 1 1 1 1 1 1 1 1 1 1 1 1 1 1 1 1 1 1 1 1 \n",
      "\n",
      "- Поколение 31: Макс. приспособ. = 97.0, Средняя приспособ. = 95.465\n",
      "  Лучший индивидуум =  1 1 1 1 1 1 1 1 1 1 1 1 1 1 1 1 1 1 1 1 1 1 1 1 1 1 1 1 0 1 0 1 1 1 1 1 1 1 1 1 1 1 1 1 1 1 1 1 1 1 1 1 1 1 1 1 1 1 1 1 1 1 1 1 1 1 1 1 1 1 1 1 1 1 0 1 1 1 1 1 1 1 1 1 1 1 1 1 1 1 1 1 1 1 1 1 1 1 1 1 \n",
      "\n",
      "- Поколение 32: Макс. приспособ. = 98.0, Средняя приспособ. = 95.82\n",
      "  Лучший индивидуум =  1 1 1 1 1 1 1 1 1 1 1 1 1 1 1 1 1 1 1 1 1 1 1 1 1 1 1 1 0 1 0 1 1 1 1 1 1 1 1 1 1 1 1 1 1 1 1 1 1 1 1 1 1 1 1 1 1 1 1 1 1 1 1 1 1 1 1 1 1 1 1 1 1 1 1 1 1 1 1 1 1 1 1 1 1 1 1 1 1 1 1 1 1 1 1 1 1 1 1 1 \n",
      "\n",
      "- Поколение 33: Макс. приспособ. = 98.0, Средняя приспособ. = 96.2\n",
      "  Лучший индивидуум =  1 1 1 1 1 1 1 1 1 1 1 1 1 1 1 1 1 1 1 1 1 1 1 1 1 1 1 1 0 1 0 1 1 1 1 1 1 1 1 1 1 1 1 1 1 1 1 1 1 1 1 1 1 1 1 1 1 1 1 1 1 1 1 1 1 1 1 1 1 1 1 1 1 1 1 1 1 1 1 1 1 1 1 1 1 1 1 1 1 1 1 1 1 1 1 1 1 1 1 1 \n",
      "\n",
      "- Поколение 34: Макс. приспособ. = 98.0, Средняя приспособ. = 96.75\n",
      "  Лучший индивидуум =  1 1 1 1 1 1 1 1 1 1 1 1 1 1 1 1 1 1 1 1 1 1 1 1 1 1 1 1 0 1 0 1 1 1 1 1 1 1 1 1 1 1 1 1 1 1 1 1 1 1 1 1 1 1 1 1 1 1 1 1 1 1 1 1 1 1 1 1 1 1 1 1 1 1 1 1 1 1 1 1 1 1 1 1 1 1 1 1 1 1 1 1 1 1 1 1 1 1 1 1 \n",
      "\n",
      "- Поколение 35: Макс. приспособ. = 99.0, Средняя приспособ. = 97.275\n",
      "  Лучший индивидуум =  1 1 1 1 1 1 1 1 1 1 1 1 1 1 1 1 1 1 1 1 1 1 1 1 1 1 1 1 0 1 1 1 1 1 1 1 1 1 1 1 1 1 1 1 1 1 1 1 1 1 1 1 1 1 1 1 1 1 1 1 1 1 1 1 1 1 1 1 1 1 1 1 1 1 1 1 1 1 1 1 1 1 1 1 1 1 1 1 1 1 1 1 1 1 1 1 1 1 1 1 \n",
      "\n",
      "- Поколение 36: Макс. приспособ. = 99.0, Средняя приспособ. = 97.73\n",
      "  Лучший индивидуум =  1 1 1 1 1 1 1 1 1 1 1 1 1 1 1 1 1 1 1 1 1 1 1 1 1 1 1 1 0 1 1 1 1 1 1 1 1 1 1 1 1 1 1 1 1 1 1 1 1 1 1 1 1 1 1 1 1 1 1 1 1 1 1 1 1 1 1 1 1 1 1 1 1 1 1 1 1 1 1 1 1 1 1 1 1 1 1 1 1 1 1 1 1 1 1 1 1 1 1 1 \n",
      "\n",
      "- Поколение 37: Макс. приспособ. = 99.0, Средняя приспособ. = 98.0\n",
      "  Лучший индивидуум =  1 1 1 1 1 1 1 1 1 1 1 1 1 1 1 1 1 1 1 1 1 1 1 1 1 1 1 1 0 1 1 1 1 1 1 1 1 1 1 1 1 1 1 1 1 1 1 1 1 1 1 1 1 1 1 1 1 1 1 1 1 1 1 1 1 1 1 1 1 1 1 1 1 1 1 1 1 1 1 1 1 1 1 1 1 1 1 1 1 1 1 1 1 1 1 1 1 1 1 1 \n",
      "\n",
      "- Поколение 38: Макс. приспособ. = 99.0, Средняя приспособ. = 98.045\n",
      "  Лучший индивидуум =  1 1 1 1 1 1 1 1 1 1 1 1 1 1 1 1 1 1 1 1 1 1 1 1 1 1 1 1 0 1 1 1 1 1 1 1 1 1 1 1 1 1 1 1 1 1 1 1 1 1 1 1 1 1 1 1 1 1 1 1 1 1 1 1 1 1 1 1 1 1 1 1 1 1 1 1 1 1 1 1 1 1 1 1 1 1 1 1 1 1 1 1 1 1 1 1 1 1 1 1 \n",
      "\n",
      "- Поколение 39: Макс. приспособ. = 99.0, Средняя приспособ. = 98.265\n",
      "  Лучший индивидуум =  1 1 1 1 1 1 1 1 1 1 1 1 1 1 1 1 1 1 1 1 1 1 1 1 1 1 1 1 0 1 1 1 1 1 1 1 1 1 1 1 1 1 1 1 1 1 1 1 1 1 1 1 1 1 1 1 1 1 1 1 1 1 1 1 1 1 1 1 1 1 1 1 1 1 1 1 1 1 1 1 1 1 1 1 1 1 1 1 1 1 1 1 1 1 1 1 1 1 1 1 \n",
      "\n",
      "- Поколение 40: Макс. приспособ. = 99.0, Средняя приспособ. = 98.66\n",
      "  Лучший индивидуум =  1 1 1 1 1 1 1 1 1 1 1 1 1 1 1 1 1 1 1 1 1 1 1 1 1 1 1 1 0 1 1 1 1 1 1 1 1 1 1 1 1 1 1 1 1 1 1 1 1 1 1 1 1 1 1 1 1 1 1 1 1 1 1 1 1 1 1 1 1 1 1 1 1 1 1 1 1 1 1 1 1 1 1 1 1 1 1 1 1 1 1 1 1 1 1 1 1 1 1 1 \n",
      "\n",
      "- Поколение 41: Макс. приспособ. = 99.0, Средняя приспособ. = 98.91\n",
      "  Лучший индивидуум =  1 1 1 1 1 1 1 1 1 1 1 1 1 1 1 1 1 1 1 1 1 1 1 1 1 1 1 1 0 1 1 1 1 1 1 1 1 1 1 1 1 1 1 1 1 1 1 1 1 1 1 1 1 1 1 1 1 1 1 1 1 1 1 1 1 1 1 1 1 1 1 1 1 1 1 1 1 1 1 1 1 1 1 1 1 1 1 1 1 1 1 1 1 1 1 1 1 1 1 1 \n",
      "\n",
      "- Поколение 42: Макс. приспособ. = 100.0, Средняя приспособ. = 98.885\n",
      "  Лучший индивидуум =  1 1 1 1 1 1 1 1 1 1 1 1 1 1 1 1 1 1 1 1 1 1 1 1 1 1 1 1 1 1 1 1 1 1 1 1 1 1 1 1 1 1 1 1 1 1 1 1 1 1 1 1 1 1 1 1 1 1 1 1 1 1 1 1 1 1 1 1 1 1 1 1 1 1 1 1 1 1 1 1 1 1 1 1 1 1 1 1 1 1 1 1 1 1 1 1 1 1 1 1 \n",
      "\n"
     ]
    }
   ],
   "metadata": {}
  },
  {
   "cell_type": "markdown",
   "source": [
    "Отображение результатов изменения значений средней и максимальной приспособленности"
   ],
   "metadata": {}
  },
  {
   "cell_type": "code",
   "execution_count": 18,
   "source": [
    "_, ax = plt.subplots(figsize=(12, 8))\r\n",
    "\r\n",
    "ax.plot(max_fitness_values, color=\"red\", label=\"Макс. приспособ.\")\r\n",
    "ax.plot(mean_fitness_values, color=\"green\", label=\"Средняя приспособ.\")\r\n",
    "\r\n",
    "ax.set_xlabel(\"Поколение\")\r\n",
    "ax.set_ylabel(\"Приспособленность\")\r\n",
    "ax.set_title(\"Зависимость средней и максимальной приспособленности от поколения\")\r\n",
    "\r\n",
    "ax.grid(True)\r\n",
    "ax.legend()\r\n",
    "\r\n",
    "plt.show();"
   ],
   "outputs": [
    {
     "output_type": "display_data",
     "data": {
      "image/png": "[encoded data removed]",
      "text/plain": [
       "<Figure size 864x576 with 1 Axes>"
      ]
     },
     "metadata": {
      "needs_background": "light"
     }
    }
   ],
   "metadata": {}
  }
 ],
 "metadata": {
  "orig_nbformat": 4,
  "language_info": {
   "name": "python",
   "version": "3.8.12",
   "mimetype": "text/x-python",
   "codemirror_mode": {
    "name": "ipython",
    "version": 3
   },
   "pygments_lexer": "ipython3",
   "nbconvert_exporter": "python",
   "file_extension": ".py"
  },
  "kernelspec": {
   "name": "python3",
   "display_name": "Python 3.8.12 64-bit ('research': conda)"
  },
  "interpreter": {
   "hash": "92da9d94fb9808b322ccbce64acaaee0ececad19254184e498493ea81554bb67"
  }
 },
 "nbformat": 4,
 "nbformat_minor": 2
}