{
 "cells": [
  {
   "cell_type": "markdown",
   "source": [
    "# Аналитическая модель определения параметров выходного потока, имеющего экспоненциальное распределение, по значениям параметров входного потока, имеющим распределение Вейбулла"
   ],
   "metadata": {
    "collapsed": true,
    "pycharm": {
     "name": "#%% md\n"
    }
   }
  },
  {
   "cell_type": "code",
   "execution_count": 1,
   "source": [
    "from sympy import *\r\n",
    "from IPython.display import display, Math"
   ],
   "outputs": [],
   "metadata": {
    "collapsed": false,
    "pycharm": {
     "name": "#%%\n"
    }
   }
  },
  {
   "cell_type": "markdown",
   "source": [
    "Инициализировать средства отображения данных SymPy."
   ],
   "metadata": {
    "collapsed": false,
    "pycharm": {
     "name": "#%% md\n"
    }
   }
  },
  {
   "cell_type": "code",
   "execution_count": 2,
   "source": [
    "init_printing()"
   ],
   "outputs": [],
   "metadata": {
    "collapsed": false,
    "pycharm": {
     "name": "#%%\n"
    }
   }
  },
  {
   "cell_type": "markdown",
   "source": [
    "Задать переменные, задействованные в математических выражениях."
   ],
   "metadata": {
    "collapsed": false,
    "pycharm": {
     "name": "#%% md\n"
    }
   }
  },
  {
   "cell_type": "code",
   "execution_count": 3,
   "source": [
    "# Параметры распределения Вейбулла\r\n",
    "a = Symbol(r'\\alpha', positive=True)\r\n",
    "s = Symbol('s', positive=True)\r\n",
    "\r\n",
    "# Параметры экспоненциального распределения\r\n",
    "L = Symbol(r'\\lambda', positive=True)\r\n",
    "\r\n",
    "# Сводобная переменная\r\n",
    "t = Symbol(r'\\tau', real=True)"
   ],
   "outputs": [],
   "metadata": {
    "collapsed": false,
    "pycharm": {
     "name": "#%%\n"
    }
   }
  },
  {
   "cell_type": "markdown",
   "source": [
    "Определить описание распределения Вейбулла:"
   ],
   "metadata": {
    "collapsed": false,
    "pycharm": {
     "name": "#%% md\n"
    }
   }
  },
  {
   "cell_type": "code",
   "execution_count": 4,
   "source": [
    "fp = (a / s) * (t / s) ** (a - 1) * exp(-(t / s) ** a)\r\n",
    "f = Piecewise(\r\n",
    "    (fp, t >= 0),\r\n",
    "    (0.0, True)\r\n",
    ")\r\n",
    "\r\n",
    "display(Math(fr\"f(\\tau) = {latex(f)}\"))  # noqa"
   ],
   "outputs": [
    {
     "output_type": "display_data",
     "data": {
      "text/plain": [
       "<IPython.core.display.Math object>"
      ],
      "text/latex": [
       "$\\displaystyle f(\\tau) = \\begin{cases} \\frac{\\alpha \\left(\\frac{\\tau}{s}\\right)^{\\alpha - 1} e^{- \\left(\\frac{\\tau}{s}\\right)^{\\alpha}}}{s} & \\text{for}\\: \\tau \\geq 0 \\\\0.0 & \\text{otherwise} \\end{cases}$"
      ]
     },
     "metadata": {}
    }
   ],
   "metadata": {
    "collapsed": false,
    "pycharm": {
     "name": "#%%\n"
    }
   }
  },
  {
   "cell_type": "markdown",
   "source": [
    "Найдем величину энтропии для входного потока, имеющего распределение\n",
    "Вейбулла."
   ],
   "metadata": {
    "collapsed": false,
    "pycharm": {
     "name": "#%% md\n"
    }
   }
  },
  {
   "cell_type": "code",
   "execution_count": 5,
   "source": [
    "Hf = -Integral(fp * log(fp), (t, 0, oo))\r\n",
    "display(Math(f\"H(f) = {latex(Hf)}\"))  # noqa"
   ],
   "outputs": [
    {
     "output_type": "display_data",
     "data": {
      "text/plain": [
       "<IPython.core.display.Math object>"
      ],
      "text/latex": [
       "$\\displaystyle H(f) = - \\int\\limits_{0}^{\\infty} \\frac{\\alpha \\left(\\frac{\\tau}{s}\\right)^{\\alpha - 1} e^{- \\left(\\frac{\\tau}{s}\\right)^{\\alpha}} \\log{\\left(\\frac{\\alpha \\left(\\frac{\\tau}{s}\\right)^{\\alpha - 1} e^{- \\left(\\frac{\\tau}{s}\\right)^{\\alpha}}}{s} \\right)}}{s}\\, d\\tau$"
      ]
     },
     "metadata": {}
    }
   ],
   "metadata": {
    "collapsed": false,
    "pycharm": {
     "name": "#%%\n"
    }
   }
  },
  {
   "cell_type": "markdown",
   "source": [
    "Определить описание экспоненциального распределения:"
   ],
   "metadata": {
    "collapsed": false,
    "pycharm": {
     "name": "#%% md\n"
    }
   }
  },
  {
   "cell_type": "code",
   "execution_count": 6,
   "source": [
    "gp = L * exp(-L * t)\r\n",
    "g = Piecewise(\r\n",
    "    (gp, t > 0),\r\n",
    "    (0.0, True)\r\n",
    ")\r\n",
    "display(Math(fr\"g(\\tau) = {latex(g)}\"))  # noqa"
   ],
   "outputs": [
    {
     "output_type": "display_data",
     "data": {
      "text/plain": [
       "<IPython.core.display.Math object>"
      ],
      "text/latex": [
       "$\\displaystyle g(\\tau) = \\begin{cases} \\lambda e^{- \\lambda \\tau} & \\text{for}\\: \\tau > 0 \\\\0.0 & \\text{otherwise} \\end{cases}$"
      ]
     },
     "metadata": {}
    }
   ],
   "metadata": {
    "collapsed": false,
    "pycharm": {
     "name": "#%%\n"
    }
   }
  },
  {
   "cell_type": "markdown",
   "source": [
    "Найдем величину кроссэнтропии между потоком, имеющим распределение Парето и\n",
    "потоком, имеющим экспоненциальное распределение"
   ],
   "metadata": {
    "collapsed": false,
    "pycharm": {
     "name": "#%% md\n"
    }
   }
  },
  {
   "cell_type": "code",
   "execution_count": 7,
   "source": [
    "Hfg = refine(-integrate(fp * log(gp), (t, 0, oo)), a > 0)\r\n",
    "display(Math(f\"H(f, g) = {latex(Hfg)}\"))  # noqa"
   ],
   "outputs": [
    {
     "output_type": "display_data",
     "data": {
      "text/plain": [
       "<IPython.core.display.Math object>"
      ],
      "text/latex": [
       "$\\displaystyle H(f, g) = \\lambda s^{- \\alpha \\left(1 - \\frac{\\alpha + 1}{\\alpha}\\right)} \\Gamma\\left(1 + \\frac{1}{\\alpha}\\right) - \\log{\\left(\\lambda \\right)}$"
      ]
     },
     "metadata": {}
    }
   ],
   "metadata": {
    "collapsed": false,
    "pycharm": {
     "name": "#%%\n"
    }
   }
  },
  {
   "cell_type": "markdown",
   "source": [
    "Упростив это выражением, получим"
   ],
   "metadata": {
    "collapsed": false,
    "pycharm": {
     "name": "#%% md\n"
    }
   }
  },
  {
   "cell_type": "code",
   "execution_count": 8,
   "source": [
    "Hfg = simplify(Hfg)\r\n",
    "display(Math(f\"H(f, g) = {latex(Hfg)}\"))  # noqa"
   ],
   "outputs": [
    {
     "output_type": "display_data",
     "data": {
      "text/plain": [
       "<IPython.core.display.Math object>"
      ],
      "text/latex": [
       "$\\displaystyle H(f, g) = \\lambda s \\Gamma\\left(1 + \\frac{1}{\\alpha}\\right) - \\log{\\left(\\lambda \\right)}$"
      ]
     },
     "metadata": {}
    }
   ],
   "metadata": {
    "collapsed": false,
    "pycharm": {
     "name": "#%%\n"
    }
   }
  },
  {
   "cell_type": "markdown",
   "source": [
    "Зная значения энтропии $H(f)$ и кроссэнтропии $H(f, g)$ найдем величину дивергенции\n",
    "Кульбака-Лейблера"
   ],
   "metadata": {
    "collapsed": false,
    "pycharm": {
     "name": "#%% md\n"
    }
   }
  },
  {
   "cell_type": "code",
   "execution_count": 9,
   "source": [
    "Dkl = Hfg - Hf\r\n",
    "display(Math(f\"D_{{KL}} = {latex(Dkl)}\"))  # noqa"
   ],
   "outputs": [
    {
     "output_type": "display_data",
     "data": {
      "text/plain": [
       "<IPython.core.display.Math object>"
      ],
      "text/latex": [
       "$\\displaystyle D_{KL} = \\lambda s \\Gamma\\left(1 + \\frac{1}{\\alpha}\\right) - \\log{\\left(\\lambda \\right)} + \\int\\limits_{0}^{\\infty} \\frac{\\alpha \\left(\\frac{\\tau}{s}\\right)^{\\alpha - 1} e^{- \\left(\\frac{\\tau}{s}\\right)^{\\alpha}} \\log{\\left(\\frac{\\alpha \\left(\\frac{\\tau}{s}\\right)^{\\alpha - 1} e^{- \\left(\\frac{\\tau}{s}\\right)^{\\alpha}}}{s} \\right)}}{s}\\, d\\tau$"
      ]
     },
     "metadata": {}
    }
   ],
   "metadata": {
    "collapsed": false,
    "pycharm": {
     "name": "#%%\n"
    }
   }
  },
  {
   "cell_type": "markdown",
   "source": [
    "Найдем производную дивергенции Кульбака-Лейблера по параметру выходного\n",
    "потока $\\lambda$:"
   ],
   "metadata": {
    "collapsed": false,
    "pycharm": {
     "name": "#%% md\n"
    }
   }
  },
  {
   "cell_type": "code",
   "execution_count": 10,
   "source": [
    "dDkl = diff(Dkl, L)\r\n",
    "display(Math(fr\"\\frac{{d\\,D_{{KL}}}}{{d\\,\\lambda}} = {latex(dDkl)}\"))  # noqa"
   ],
   "outputs": [
    {
     "output_type": "display_data",
     "data": {
      "text/plain": [
       "<IPython.core.display.Math object>"
      ],
      "text/latex": [
       "$\\displaystyle \\frac{d\\,D_{KL}}{d\\,\\lambda} = s \\Gamma\\left(1 + \\frac{1}{\\alpha}\\right) - \\frac{1}{\\lambda}$"
      ]
     },
     "metadata": {}
    }
   ],
   "metadata": {
    "collapsed": false,
    "pycharm": {
     "name": "#%%\n"
    }
   }
  },
  {
   "cell_type": "markdown",
   "source": [
    "Приравняв к нуля значение производной, и решив полученное уровнение\n",
    "относительно $\\lambda$ найдем"
   ],
   "metadata": {
    "collapsed": false,
    "pycharm": {
     "name": "#%% md\n"
    }
   }
  },
  {
   "cell_type": "code",
   "execution_count": 11,
   "source": [
    "solutions = solve(dDkl, L)\n",
    "for solution in solutions:\n",
    "    display(Math(fr\"\\lambda = {latex(solution)}\"))  # noqa"
   ],
   "outputs": [
    {
     "output_type": "display_data",
     "data": {
      "text/plain": [
       "<IPython.core.display.Math object>"
      ],
      "text/latex": [
       "$\\displaystyle \\lambda = \\frac{1}{s \\Gamma\\left(1 + \\frac{1}{\\alpha}\\right)}$"
      ]
     },
     "metadata": {}
    }
   ],
   "metadata": {
    "collapsed": false,
    "pycharm": {
     "name": "#%%\n"
    }
   }
  }
 ],
 "metadata": {
  "kernelspec": {
   "name": "python3",
   "display_name": "Python 3.8.10 64-bit ('research': conda)"
  },
  "language_info": {
   "name": "python",
   "version": "3.8.10",
   "mimetype": "text/x-python",
   "codemirror_mode": {
    "name": "ipython",
    "version": 3
   },
   "pygments_lexer": "ipython3",
   "nbconvert_exporter": "python",
   "file_extension": ".py"
  },
  "interpreter": {
   "hash": "92da9d94fb9808b322ccbce64acaaee0ececad19254184e498493ea81554bb67"
  }
 },
 "nbformat": 4,
 "nbformat_minor": 2
}