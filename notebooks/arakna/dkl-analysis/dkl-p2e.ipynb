{
 "cells": [
  {
   "cell_type": "markdown",
   "source": [
    "# Аналитическая модель определения параметров выходного потока, имеющего экспоненциальное распределение, по значениям параметров входного потока, имеющим распределение Парето"
   ],
   "metadata": {
    "collapsed": true,
    "pycharm": {
     "name": "#%% md\n"
    }
   }
  },
  {
   "cell_type": "code",
   "execution_count": 1,
   "source": [
    "from sympy import *\r\n",
    "from IPython.display import display, Math"
   ],
   "outputs": [],
   "metadata": {
    "collapsed": false,
    "pycharm": {
     "name": "#%%\n"
    }
   }
  },
  {
   "cell_type": "markdown",
   "source": [
    "Инициализировать средства отображения данных SymPy."
   ],
   "metadata": {
    "collapsed": false,
    "pycharm": {
     "name": "#%% md\n"
    }
   }
  },
  {
   "cell_type": "code",
   "execution_count": 2,
   "source": [
    "init_printing()"
   ],
   "outputs": [],
   "metadata": {
    "collapsed": false,
    "pycharm": {
     "name": "#%%\n"
    }
   }
  },
  {
   "cell_type": "markdown",
   "source": [
    "Задать переменные, задействованные в математических выражениях."
   ],
   "metadata": {
    "collapsed": false,
    "pycharm": {
     "name": "#%% md\n"
    }
   }
  },
  {
   "cell_type": "code",
   "execution_count": 3,
   "source": [
    "# Параметры распределения Парето\r\n",
    "a = Symbol(r'\\alpha', positive=True)\r\n",
    "tm = Symbol(r'\\tau_m', positive=True)\r\n",
    "\r\n",
    "# Параметры экспоненциального распределения\r\n",
    "L = Symbol(r'\\lambda', positive=True)\r\n",
    "\r\n",
    "# Сводобная переменная\r\n",
    "t = Symbol(r'\\tau', real=True)"
   ],
   "outputs": [],
   "metadata": {
    "collapsed": false,
    "pycharm": {
     "name": "#%%\n"
    }
   }
  },
  {
   "cell_type": "markdown",
   "source": [
    "Определить описание распределения Парето:"
   ],
   "metadata": {
    "collapsed": false,
    "pycharm": {
     "name": "#%% md\n"
    }
   }
  },
  {
   "cell_type": "code",
   "execution_count": 4,
   "source": [
    "fp = a * (tm ** a) * (t ** (-(a + 1)))\r\n",
    "f = Piecewise(\r\n",
    "    (fp, t >= tm),\r\n",
    "    (0.0, True)\r\n",
    ")\r\n",
    "\r\n",
    "display(Math(fr\"f(\\tau) = {latex(f)}\"))  # noqa"
   ],
   "outputs": [
    {
     "output_type": "display_data",
     "data": {
      "text/plain": [
       "<IPython.core.display.Math object>"
      ],
      "text/latex": [
       "$\\displaystyle f(\\tau) = \\begin{cases} \\alpha \\tau^{- \\alpha - 1} \\tau_{m}^{\\alpha} & \\text{for}\\: \\tau \\geq \\tau_{m} \\\\0.0 & \\text{otherwise} \\end{cases}$"
      ]
     },
     "metadata": {}
    }
   ],
   "metadata": {
    "collapsed": false,
    "pycharm": {
     "name": "#%%\n"
    }
   }
  },
  {
   "cell_type": "markdown",
   "source": [
    "Найдем величину энтропии для входного потока, имеющего распределение\n",
    "Парето."
   ],
   "metadata": {
    "collapsed": false,
    "pycharm": {
     "name": "#%% md\n"
    }
   }
  },
  {
   "cell_type": "code",
   "execution_count": 5,
   "source": [
    "Hf = -integrate(f * log(f), (t, tm, oo))\r\n",
    "display(Math(f\"H(f) = {latex(Hf)}\"))  # noqa"
   ],
   "outputs": [
    {
     "output_type": "display_data",
     "data": {
      "text/plain": [
       "<IPython.core.display.Math object>"
      ],
      "text/latex": [
       "$\\displaystyle H(f) = \\alpha \\tau_{m}^{\\alpha} \\left(- \\frac{\\tau_{m}^{- \\alpha} \\log{\\left(\\alpha \\right)}}{\\alpha} + \\frac{\\tau_{m}^{- \\alpha} \\log{\\left(\\tau_{m} \\right)}}{\\alpha} + \\frac{\\tau_{m}^{- \\alpha}}{\\alpha} + \\frac{\\tau_{m}^{- \\alpha}}{\\alpha^{2}}\\right)$"
      ]
     },
     "metadata": {}
    }
   ],
   "metadata": {
    "collapsed": false,
    "pycharm": {
     "name": "#%%\n"
    }
   }
  },
  {
   "cell_type": "markdown",
   "source": [
    "Упростив это выражением, получим"
   ],
   "metadata": {
    "collapsed": false,
    "pycharm": {
     "name": "#%% md\n"
    }
   }
  },
  {
   "cell_type": "code",
   "execution_count": 6,
   "source": [
    "Hf = simplify(Hf)\r\n",
    "display(Math(f\"H(f) = {latex(Hf)}\"))  # noqa"
   ],
   "outputs": [
    {
     "output_type": "display_data",
     "data": {
      "text/plain": [
       "<IPython.core.display.Math object>"
      ],
      "text/latex": [
       "$\\displaystyle H(f) = \\log{\\left(\\frac{\\tau_{m}}{\\alpha} \\right)} + 1 + \\frac{1}{\\alpha}$"
      ]
     },
     "metadata": {}
    }
   ],
   "metadata": {
    "collapsed": false,
    "pycharm": {
     "name": "#%%\n"
    }
   }
  },
  {
   "cell_type": "markdown",
   "source": [
    "Определить описание экспоненциального распределения:"
   ],
   "metadata": {
    "collapsed": false,
    "pycharm": {
     "name": "#%% md\n"
    }
   }
  },
  {
   "cell_type": "code",
   "execution_count": 7,
   "source": [
    "gp = L * exp(-L * t)\r\n",
    "g = Piecewise(\r\n",
    "    (gp, t > 0),\r\n",
    "    (0.0, True)\r\n",
    ")\r\n",
    "display(Math(fr\"g(\\tau) = {latex(g)}\"))  # noqa"
   ],
   "outputs": [
    {
     "output_type": "display_data",
     "data": {
      "text/plain": [
       "<IPython.core.display.Math object>"
      ],
      "text/latex": [
       "$\\displaystyle g(\\tau) = \\begin{cases} \\lambda e^{- \\lambda \\tau} & \\text{for}\\: \\tau > 0 \\\\0.0 & \\text{otherwise} \\end{cases}$"
      ]
     },
     "metadata": {}
    }
   ],
   "metadata": {
    "collapsed": false,
    "pycharm": {
     "name": "#%%\n"
    }
   }
  },
  {
   "cell_type": "markdown",
   "source": [
    "Найдем величину кроссэнтропии между потоком, имеющим распределение Парето и\n",
    "потоком, имеющим экспоненциальное распределение"
   ],
   "metadata": {
    "collapsed": false,
    "pycharm": {
     "name": "#%% md\n"
    }
   }
  },
  {
   "cell_type": "code",
   "execution_count": 8,
   "source": [
    "Hfg = refine(-integrate(fp * log(gp), (t, tm, oo)), a > 1)\r\n",
    "display(Math(f\"H(f, g) = {latex(Hfg)}\"))  # noqa"
   ],
   "outputs": [
    {
     "output_type": "display_data",
     "data": {
      "text/plain": [
       "<IPython.core.display.Math object>"
      ],
      "text/latex": [
       "$\\displaystyle H(f, g) = \\frac{\\alpha \\lambda \\tau_{m}}{\\alpha - 1} - \\tau_{m} \\tau_{m}^{\\alpha} \\tau_{m}^{- \\alpha - 1} \\log{\\left(\\lambda \\right)}$"
      ]
     },
     "metadata": {}
    }
   ],
   "metadata": {
    "collapsed": false,
    "pycharm": {
     "name": "#%%\n"
    }
   }
  },
  {
   "cell_type": "markdown",
   "source": [
    "Упростив это выражением, получим"
   ],
   "metadata": {
    "collapsed": false,
    "pycharm": {
     "name": "#%% md\n"
    }
   }
  },
  {
   "cell_type": "code",
   "execution_count": 9,
   "source": [
    "Hfg = simplify(Hfg)\r\n",
    "display(Math(f\"H(f, g) = {latex(Hfg)}\"))  # noqa"
   ],
   "outputs": [
    {
     "output_type": "display_data",
     "data": {
      "text/plain": [
       "<IPython.core.display.Math object>"
      ],
      "text/latex": [
       "$\\displaystyle H(f, g) = \\frac{\\alpha \\lambda \\tau_{m} + \\log{\\left(\\lambda^{1 - \\alpha} \\right)}}{\\alpha - 1}$"
      ]
     },
     "metadata": {}
    }
   ],
   "metadata": {
    "collapsed": false,
    "pycharm": {
     "name": "#%%\n"
    }
   }
  },
  {
   "cell_type": "markdown",
   "source": [
    "Зная значения энтропии $H(f)$ и кроссэнтропии $H(f, g)$ найдем величину дивергенции\n",
    "Кульбака-Лейблера"
   ],
   "metadata": {
    "collapsed": false,
    "pycharm": {
     "name": "#%% md\n"
    }
   }
  },
  {
   "cell_type": "code",
   "execution_count": 10,
   "source": [
    "Dkl = Hfg - Hf\r\n",
    "display(Math(f\"D_{{KL}} = {latex(Dkl)}\"))  # noqa"
   ],
   "outputs": [
    {
     "output_type": "display_data",
     "data": {
      "text/plain": [
       "<IPython.core.display.Math object>"
      ],
      "text/latex": [
       "$\\displaystyle D_{KL} = \\log{\\left(\\frac{\\tau_{m}}{\\alpha} \\right)} + 1 - \\frac{\\alpha \\lambda \\tau_{m} + \\log{\\left(\\lambda^{1 - \\alpha} \\right)}}{\\alpha - 1} + \\frac{1}{\\alpha}$"
      ]
     },
     "metadata": {}
    }
   ],
   "metadata": {
    "collapsed": false,
    "pycharm": {
     "name": "#%%\n"
    }
   }
  },
  {
   "cell_type": "markdown",
   "source": [
    "Найдем производную дивергенции Кульбака-Лейблера по параметру выходного\n",
    "потока $\\lambda$:"
   ],
   "metadata": {
    "collapsed": false,
    "pycharm": {
     "name": "#%% md\n"
    }
   }
  },
  {
   "cell_type": "code",
   "execution_count": 11,
   "source": [
    "dDkl = diff(Dkl, L)\r\n",
    "display(Math(fr\"\\frac{{d\\,D_{{KL}}}}{{d\\,\\lambda}} = {latex(dDkl)}\"))  # noqa"
   ],
   "outputs": [
    {
     "output_type": "display_data",
     "data": {
      "text/plain": [
       "<IPython.core.display.Math object>"
      ],
      "text/latex": [
       "$\\displaystyle \\frac{d\\,D_{KL}}{d\\,\\lambda} = - \\frac{\\alpha \\tau_{m} + \\frac{\\lambda^{1 - \\alpha} \\lambda^{\\alpha - 1} \\left(1 - \\alpha\\right)}{\\lambda}}{\\alpha - 1}$"
      ]
     },
     "metadata": {}
    }
   ],
   "metadata": {
    "collapsed": false,
    "pycharm": {
     "name": "#%%\n"
    }
   }
  },
  {
   "cell_type": "markdown",
   "source": [
    "Упростив полученное выражение, найдем"
   ],
   "metadata": {
    "collapsed": false,
    "pycharm": {
     "name": "#%% md\n"
    }
   }
  },
  {
   "cell_type": "code",
   "execution_count": 12,
   "source": [
    "dDkl = simplify(dDkl)\r\n",
    "display(Math(fr\"\\frac{{d\\,D_{{KL}}}}{{d\\,\\lambda}} = {latex(dDkl)}\"))  # noqa"
   ],
   "outputs": [
    {
     "output_type": "display_data",
     "data": {
      "text/plain": [
       "<IPython.core.display.Math object>"
      ],
      "text/latex": [
       "$\\displaystyle \\frac{d\\,D_{KL}}{d\\,\\lambda} = \\frac{- \\alpha \\lambda \\tau_{m} + \\alpha - 1}{\\lambda \\left(\\alpha - 1\\right)}$"
      ]
     },
     "metadata": {}
    }
   ],
   "metadata": {
    "collapsed": false,
    "pycharm": {
     "name": "#%%\n"
    }
   }
  },
  {
   "cell_type": "markdown",
   "source": [
    "Приравняв к нуля значение производной, и решив полученное уровнение\n",
    "относительно $\\lambda$ найдем"
   ],
   "metadata": {
    "collapsed": false,
    "pycharm": {
     "name": "#%% md\n"
    }
   }
  },
  {
   "cell_type": "code",
   "execution_count": 13,
   "source": [
    "solutions = solve(dDkl, L)\r\n",
    "for solution in solutions:\r\n",
    "    display(Math(fr\"\\lambda = {latex(solution)}\"))  # noqa"
   ],
   "outputs": [
    {
     "output_type": "display_data",
     "data": {
      "text/plain": [
       "<IPython.core.display.Math object>"
      ],
      "text/latex": [
       "$\\displaystyle \\lambda = \\frac{\\alpha - 1}{\\alpha \\tau_{m}}$"
      ]
     },
     "metadata": {}
    }
   ],
   "metadata": {
    "collapsed": false,
    "pycharm": {
     "name": "#%%\n"
    }
   }
  }
 ],
 "metadata": {
  "kernelspec": {
   "name": "python3",
   "display_name": "Python 3.8.10 64-bit ('research': conda)"
  },
  "language_info": {
   "name": "python",
   "version": "3.8.10",
   "mimetype": "text/x-python",
   "codemirror_mode": {
    "name": "ipython",
    "version": 3
   },
   "pygments_lexer": "ipython3",
   "nbconvert_exporter": "python",
   "file_extension": ".py"
  },
  "interpreter": {
   "hash": "92da9d94fb9808b322ccbce64acaaee0ececad19254184e498493ea81554bb67"
  }
 },
 "nbformat": 4,
 "nbformat_minor": 2
}