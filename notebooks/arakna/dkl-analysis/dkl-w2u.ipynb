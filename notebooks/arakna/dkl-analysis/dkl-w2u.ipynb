{
 "cells": [
  {
   "cell_type": "markdown",
   "source": [
    "# Аналитическая модель определения параметров выходного потока, имеющего равномерное распределение, по значениям параметров входного потока, имеющим распределение Вейбулла"
   ],
   "metadata": {
    "collapsed": true,
    "pycharm": {
     "name": "#%% md\n"
    }
   }
  },
  {
   "cell_type": "code",
   "execution_count": 1,
   "source": [
    "import numpy as np\r\n",
    "from sympy import *\r\n",
    "from IPython.display import display, Math"
   ],
   "outputs": [],
   "metadata": {
    "collapsed": false,
    "pycharm": {
     "name": "#%%\n"
    }
   }
  },
  {
   "cell_type": "markdown",
   "source": [
    "Инициализировать средства отображения данных SymPy."
   ],
   "metadata": {
    "collapsed": false,
    "pycharm": {
     "name": "#%% md\n"
    }
   }
  },
  {
   "cell_type": "code",
   "execution_count": 2,
   "source": [
    "init_printing()"
   ],
   "outputs": [],
   "metadata": {
    "collapsed": false,
    "pycharm": {
     "name": "#%%\n"
    }
   }
  },
  {
   "cell_type": "markdown",
   "source": [
    "Задать переменные, задействованные в математических выражениях."
   ],
   "metadata": {
    "collapsed": false,
    "pycharm": {
     "name": "#%% md\n"
    }
   }
  },
  {
   "cell_type": "code",
   "execution_count": 3,
   "source": [
    "# Параметры распределения Вейбулла\r\n",
    "a = Symbol(r'\\alpha', positive=True)\r\n",
    "s = Symbol('s', positive=True)\r\n",
    "\r\n",
    "# Параметры равномерного распределения\r\n",
    "l = Symbol('l', positive=True)\r\n",
    "h = Symbol('h', positive=True)\r\n",
    "\r\n",
    "# Сводобная переменная\r\n",
    "t = Symbol(r'\\tau', real=True)"
   ],
   "outputs": [],
   "metadata": {
    "collapsed": false,
    "pycharm": {
     "name": "#%%\n"
    }
   }
  },
  {
   "cell_type": "markdown",
   "source": [
    "Определить описание распределения Вейбулла:"
   ],
   "metadata": {
    "collapsed": false,
    "pycharm": {
     "name": "#%% md\n"
    }
   }
  },
  {
   "cell_type": "code",
   "execution_count": 4,
   "source": [
    "fp = (a / s) * (t / s) ** (a - 1) * exp(-(t / s) ** a)\r\n",
    "f = Piecewise(\r\n",
    "    (fp, t >= 0),\r\n",
    "    (0.0, True)\r\n",
    ")\r\n",
    "\r\n",
    "display(Math(fr\"f(\\tau) = {latex(f)}\"))  # noqa"
   ],
   "outputs": [
    {
     "output_type": "display_data",
     "data": {
      "text/plain": [
       "<IPython.core.display.Math object>"
      ],
      "text/latex": [
       "$\\displaystyle f(\\tau) = \\begin{cases} \\frac{\\alpha \\left(\\frac{\\tau}{s}\\right)^{\\alpha - 1} e^{- \\left(\\frac{\\tau}{s}\\right)^{\\alpha}}}{s} & \\text{for}\\: \\tau \\geq 0 \\\\0.0 & \\text{otherwise} \\end{cases}$"
      ]
     },
     "metadata": {}
    }
   ],
   "metadata": {
    "collapsed": false,
    "pycharm": {
     "name": "#%%\n"
    }
   }
  },
  {
   "cell_type": "markdown",
   "source": [
    "Найдем величину энтропии для входного потока, имеющего распределение\n",
    "Вейбулла."
   ],
   "metadata": {
    "collapsed": false,
    "pycharm": {
     "name": "#%% md\n"
    }
   }
  },
  {
   "cell_type": "code",
   "execution_count": 5,
   "source": [
    "Hf = -Integral(fp * log(fp), (t, 0, oo))\r\n",
    "display(Math(f\"H(f) = {latex(Hf)}\"))  # noqa"
   ],
   "outputs": [
    {
     "output_type": "display_data",
     "data": {
      "text/plain": [
       "<IPython.core.display.Math object>"
      ],
      "text/latex": [
       "$\\displaystyle H(f) = - \\int\\limits_{0}^{\\infty} \\frac{\\alpha \\left(\\frac{\\tau}{s}\\right)^{\\alpha - 1} e^{- \\left(\\frac{\\tau}{s}\\right)^{\\alpha}} \\log{\\left(\\frac{\\alpha \\left(\\frac{\\tau}{s}\\right)^{\\alpha - 1} e^{- \\left(\\frac{\\tau}{s}\\right)^{\\alpha}}}{s} \\right)}}{s}\\, d\\tau$"
      ]
     },
     "metadata": {}
    }
   ],
   "metadata": {
    "collapsed": false,
    "pycharm": {
     "name": "#%%\n"
    }
   }
  },
  {
   "cell_type": "markdown",
   "source": [
    "Определить описание равномерного распределения:"
   ],
   "metadata": {
    "collapsed": false,
    "pycharm": {
     "name": "#%% md\n"
    }
   }
  },
  {
   "cell_type": "code",
   "execution_count": 6,
   "source": [
    "gp = 1 / (h - l)\r\n",
    "g = Piecewise(\r\n",
    "    (gp, And(t >= l, t <= h)),\r\n",
    "    (0.0, True)\r\n",
    ")\r\n",
    "display(Math(fr\"g(\\tau) = {latex(g)}\"))  # noqa"
   ],
   "outputs": [
    {
     "output_type": "display_data",
     "data": {
      "text/plain": [
       "<IPython.core.display.Math object>"
      ],
      "text/latex": [
       "$\\displaystyle g(\\tau) = \\begin{cases} \\frac{1}{h - l} & \\text{for}\\: \\tau \\geq l \\wedge \\tau \\leq h \\\\0.0 & \\text{otherwise} \\end{cases}$"
      ]
     },
     "metadata": {}
    }
   ],
   "metadata": {
    "collapsed": false,
    "pycharm": {
     "name": "#%%\n"
    }
   }
  },
  {
   "cell_type": "markdown",
   "source": [
    "Найдем величину кроссэнтропии между потоком, имеющим распределение Парето и\n",
    "потоком, имеющим экспоненциальное распределение"
   ],
   "metadata": {
    "collapsed": false,
    "pycharm": {
     "name": "#%% md\n"
    }
   }
  },
  {
   "cell_type": "code",
   "execution_count": 7,
   "source": [
    "Hfg = -log(gp) * integrate(fp, (t, l, h))\r\n",
    "display(Math(f\"H(f, g) = {latex(Hfg)}\"))  # noqa"
   ],
   "outputs": [
    {
     "output_type": "display_data",
     "data": {
      "text/plain": [
       "<IPython.core.display.Math object>"
      ],
      "text/latex": [
       "$\\displaystyle H(f, g) = - \\left(e^{- l^{\\alpha} s^{- \\alpha}} - e^{- h^{\\alpha} s^{- \\alpha}}\\right) \\log{\\left(\\frac{1}{h - l} \\right)}$"
      ]
     },
     "metadata": {}
    }
   ],
   "metadata": {
    "collapsed": false,
    "pycharm": {
     "name": "#%%\n"
    }
   }
  },
  {
   "cell_type": "markdown",
   "source": [
    "Упростив это выражением, получим"
   ],
   "metadata": {
    "collapsed": false,
    "pycharm": {
     "name": "#%% md\n"
    }
   }
  },
  {
   "cell_type": "code",
   "execution_count": 8,
   "source": [
    "Hfg = Hfg.subs(log(1 / (h - l)), -log(h - l))\r\n",
    "display(Math(f\"H(f, g) = {latex(Hfg)}\"))  # noqa"
   ],
   "outputs": [
    {
     "output_type": "display_data",
     "data": {
      "text/plain": [
       "<IPython.core.display.Math object>"
      ],
      "text/latex": [
       "$\\displaystyle H(f, g) = \\left(e^{- l^{\\alpha} s^{- \\alpha}} - e^{- h^{\\alpha} s^{- \\alpha}}\\right) \\log{\\left(h - l \\right)}$"
      ]
     },
     "metadata": {}
    }
   ],
   "metadata": {
    "collapsed": false,
    "pycharm": {
     "name": "#%%\n"
    }
   }
  },
  {
   "cell_type": "markdown",
   "source": [
    "Зная значения энтропии $H(f)$ и кроссэнтропии $H(f, g)$ найдем величину дивергенции\n",
    "Кульбака-Лейблера"
   ],
   "metadata": {
    "collapsed": false,
    "pycharm": {
     "name": "#%% md\n"
    }
   }
  },
  {
   "cell_type": "code",
   "execution_count": 9,
   "source": [
    "Dkl = Hfg - Hf\r\n",
    "display(Math(f\"D_{{KL}} = {latex(Dkl)}\"))  # noqa"
   ],
   "outputs": [
    {
     "output_type": "display_data",
     "data": {
      "text/plain": [
       "<IPython.core.display.Math object>"
      ],
      "text/latex": [
       "$\\displaystyle D_{KL} = - \\left(e^{- l^{\\alpha} s^{- \\alpha}} - e^{- h^{\\alpha} s^{- \\alpha}}\\right) \\log{\\left(h - l \\right)} - \\int\\limits_{0}^{\\infty} \\frac{\\alpha \\left(\\frac{\\tau}{s}\\right)^{\\alpha - 1} e^{- \\left(\\frac{\\tau}{s}\\right)^{\\alpha}} \\log{\\left(\\frac{\\alpha \\left(\\frac{\\tau}{s}\\right)^{\\alpha - 1} e^{- \\left(\\frac{\\tau}{s}\\right)^{\\alpha}}}{s} \\right)}}{s}\\, d\\tau$"
      ]
     },
     "metadata": {}
    }
   ],
   "metadata": {
    "collapsed": false,
    "pycharm": {
     "name": "#%%\n"
    }
   }
  },
  {
   "cell_type": "markdown",
   "source": [
    "Найдем производную дивергенции Кульбака-Лейблера по параметрам выходного\n",
    "потока $l$ и $h$:"
   ],
   "metadata": {
    "collapsed": false,
    "pycharm": {
     "name": "#%% md\n"
    }
   }
  },
  {
   "cell_type": "code",
   "execution_count": 10,
   "source": [
    "dDkll = diff(Dkl, l)\n",
    "display(Math(fr\"\\frac{{\\partial\\,D_{{KL}}}}{{\\partial\\,l}} = {latex(dDkll)}\"))  # noqa\n",
    "\n",
    "dDklh = diff(Dkl, h)\n",
    "display(Math(fr\"\\frac{{\\partial\\,D_{{KL}}}}{{\\partial\\,h}} = {latex(dDklh)}\"))  # noqa"
   ],
   "outputs": [
    {
     "output_type": "display_data",
     "data": {
      "text/plain": [
       "<IPython.core.display.Math object>"
      ],
      "text/latex": [
       "$\\displaystyle \\frac{\\partial\\,D_{KL}}{\\partial\\,l} = \\frac{\\alpha l^{\\alpha} s^{- \\alpha} e^{- l^{\\alpha} s^{- \\alpha}} \\log{\\left(h - l \\right)}}{l} - \\frac{- e^{- l^{\\alpha} s^{- \\alpha}} + e^{- h^{\\alpha} s^{- \\alpha}}}{h - l}$"
      ]
     },
     "metadata": {}
    },
    {
     "output_type": "display_data",
     "data": {
      "text/plain": [
       "<IPython.core.display.Math object>"
      ],
      "text/latex": [
       "$\\displaystyle \\frac{\\partial\\,D_{KL}}{\\partial\\,h} = - \\frac{\\alpha h^{\\alpha} s^{- \\alpha} e^{- h^{\\alpha} s^{- \\alpha}} \\log{\\left(h - l \\right)}}{h} + \\frac{- e^{- l^{\\alpha} s^{- \\alpha}} + e^{- h^{\\alpha} s^{- \\alpha}}}{h - l}$"
      ]
     },
     "metadata": {}
    }
   ],
   "metadata": {
    "collapsed": false,
    "pycharm": {
     "name": "#%%\n"
    }
   }
  },
  {
   "cell_type": "markdown",
   "source": [
    "Приравняв к нуля значение производных, и решив полученное уровнение\n",
    "относительно $l$ и $h$ найдем"
   ],
   "metadata": {
    "collapsed": false,
    "pycharm": {
     "name": "#%% md\n"
    }
   }
  },
  {
   "cell_type": "code",
   "execution_count": 11,
   "source": [
    "solution = nonlinsolve((dDkll, dDklh), (l, h))  # noqa\n",
    "display(Math(latex(solution)))  # noqa"
   ],
   "outputs": [
    {
     "output_type": "display_data",
     "data": {
      "text/plain": [
       "<IPython.core.display.Math object>"
      ],
      "text/latex": [
       "$\\displaystyle \\left\\{\\left( l, \\  h\\right)\\; \\middle|\\; \\left( l, \\  h\\right) \\in \\mathbb{C}^{2} \\wedge - \\alpha h^{\\alpha} \\left(h - l\\right) e^{h^{\\alpha} s^{- \\alpha}} e^{l^{\\alpha} s^{- \\alpha}} \\log{\\left(h - l \\right)} + h s^{\\alpha} \\left(- e^{h^{\\alpha} s^{- \\alpha}} + e^{l^{\\alpha} s^{- \\alpha}}\\right) e^{h^{\\alpha} s^{- \\alpha}} = 0 \\wedge \\alpha l^{\\alpha} \\left(h - l\\right) e^{h^{\\alpha} s^{- \\alpha}} e^{l^{\\alpha} s^{- \\alpha}} \\log{\\left(h - l \\right)} + l s^{\\alpha} \\left(e^{h^{\\alpha} s^{- \\alpha}} - e^{l^{\\alpha} s^{- \\alpha}}\\right) e^{l^{\\alpha} s^{- \\alpha}} = 0 \\right\\}$"
      ]
     },
     "metadata": {}
    }
   ],
   "metadata": {
    "collapsed": false,
    "pycharm": {
     "name": "#%%\n"
    }
   }
  },
  {
   "cell_type": "markdown",
   "source": [
    "Решение этой системы уравнений не может быть получено аналитически. Найдем\n",
    "численное решение этой системы уравнений для коэффициента масштаба $s = 1$."
   ],
   "metadata": {
    "collapsed": false,
    "pycharm": {
     "name": "#%% md\n"
    }
   }
  },
  {
   "cell_type": "code",
   "execution_count": 12,
   "source": [
    "dDkll1 = dDkll.subs(s, 1)\n",
    "display(Math(fr\"\\frac{{\\partial\\,D_{{KL}}}}{{\\partial\\,l}} = {latex(dDkll1)}\"))  # noqa\n",
    "\n",
    "dDklh1 = dDklh.subs(s, 1)\n",
    "display(Math(fr\"\\frac{{\\partial\\,D_{{KL}}}}{{\\partial\\,h}} = {latex(dDklh1)}\"))  # noqa"
   ],
   "outputs": [
    {
     "output_type": "display_data",
     "data": {
      "text/plain": [
       "<IPython.core.display.Math object>"
      ],
      "text/latex": [
       "$\\displaystyle \\frac{\\partial\\,D_{KL}}{\\partial\\,l} = \\frac{\\alpha l^{\\alpha} e^{- l^{\\alpha}} \\log{\\left(h - l \\right)}}{l} - \\frac{- e^{- l^{\\alpha}} + e^{- h^{\\alpha}}}{h - l}$"
      ]
     },
     "metadata": {}
    },
    {
     "output_type": "display_data",
     "data": {
      "text/plain": [
       "<IPython.core.display.Math object>"
      ],
      "text/latex": [
       "$\\displaystyle \\frac{\\partial\\,D_{KL}}{\\partial\\,h} = - \\frac{\\alpha h^{\\alpha} e^{- h^{\\alpha}} \\log{\\left(h - l \\right)}}{h} + \\frac{- e^{- l^{\\alpha}} + e^{- h^{\\alpha}}}{h - l}$"
      ]
     },
     "metadata": {}
    }
   ],
   "metadata": {
    "collapsed": false,
    "pycharm": {
     "name": "#%%\n"
    }
   }
  },
  {
   "cell_type": "markdown",
   "source": [
    "спользуя соотношение $\\alpha = 2 - 2H$, найдем решение этой системы уравнений\n",
    "при различных значениях показателя Херста $H$."
   ],
   "metadata": {
    "collapsed": false,
    "pycharm": {
     "name": "#%% md\n"
    }
   }
  },
  {
   "cell_type": "code",
   "execution_count": 13,
   "source": [
    "for H in np.arange(0.5, 1.0, 0.05):\n",
    "    alpha = 2.0 - 2.0 * H\n",
    "\n",
    "    dDkll1a = dDkll1.subs(a, alpha)\n",
    "    dDklh1a = dDklh1.subs(a, alpha)\n",
    "\n",
    "    try:\n",
    "        solution = nsolve((dDkll1a, dDklh1a), (l, h), (0.01, 100.0))\n",
    "        print(solution)\n",
    "    except ValueError:\n",
    "        print(f\"Нет решения для H = {H}\")\n",
    "    except ZeroDivisionError:\n",
    "        print(f\"Нет решения для H = {H} (вырожденная матрица)\")"
   ],
   "outputs": [
    {
     "output_type": "stream",
     "name": "stdout",
     "text": [
      "Нет решения для H = 0.5\n",
      "Нет решения для H = 0.55\n",
      "Нет решения для H = 0.6000000000000001\n",
      "Нет решения для H = 0.6500000000000001\n",
      "Нет решения для H = 0.7000000000000002\n",
      "Нет решения для H = 0.7500000000000002\n",
      "Нет решения для H = 0.8000000000000003\n",
      "Нет решения для H = 0.8500000000000003\n",
      "Нет решения для H = 0.9000000000000004\n",
      "Нет решения для H = 0.9500000000000004\n"
     ]
    }
   ],
   "metadata": {
    "collapsed": false,
    "pycharm": {
     "name": "#%%\n"
    }
   }
  },
  {
   "cell_type": "markdown",
   "source": [
    "Таким образом, при преобразовании распределения Вейбулла в равномерное\n",
    "распределение отсутствует оптимальный списоб получения границ интервала\n",
    "$l$ и $h$ равномерного распределения по коэффициентам формы $\\alpha$\n",
    "и масштаба $s$ распределения Вейбулла, при которых величина дивергенции\n",
    "Кульбака-Лейблера будет минимальной."
   ],
   "metadata": {
    "collapsed": false,
    "pycharm": {
     "name": "#%% md\n"
    }
   }
  }
 ],
 "metadata": {
  "kernelspec": {
   "name": "python3",
   "display_name": "Python 3.8.10 64-bit ('research': conda)"
  },
  "language_info": {
   "codemirror_mode": {
    "name": "ipython",
    "version": 2
   },
   "file_extension": ".py",
   "mimetype": "text/x-python",
   "name": "python",
   "nbconvert_exporter": "python",
   "pygments_lexer": "ipython2",
   "version": "3.8.10"
  },
  "interpreter": {
   "hash": "92da9d94fb9808b322ccbce64acaaee0ececad19254184e498493ea81554bb67"
  }
 },
 "nbformat": 4,
 "nbformat_minor": 2
}